{
 "cells": [
  {
   "attachments": {},
   "cell_type": "markdown",
   "metadata": {},
   "source": [
    "# Kansas City Craigslist Web Scrape"
   ]
  },
  {
   "cell_type": "code",
   "execution_count": 1,
   "metadata": {},
   "outputs": [],
   "source": [
    "# Imports\n",
    "import pandas as pd\n",
    "from splinter import Browser\n",
    "from bs4 import BeautifulSoup"
   ]
  },
  {
   "cell_type": "code",
   "execution_count": 2,
   "metadata": {},
   "outputs": [],
   "source": [
    "# Set up Splinter\n",
    "browser = Browser('chrome')"
   ]
  },
  {
   "cell_type": "code",
   "execution_count": 3,
   "metadata": {},
   "outputs": [],
   "source": [
    "# URL to Scrape site\n",
    "url = 'https://kansascity.craigslist.org/search/syp#search=1~gallery~0~0'\n",
    "browser.visit(url)"
   ]
  },
  {
   "cell_type": "code",
   "execution_count": 4,
   "metadata": {},
   "outputs": [],
   "source": [
    "# Parse the HTML\n",
    "html = browser.html\n",
    "soup = BeautifulSoup(html, 'html.parser')"
   ]
  },
  {
   "cell_type": "markdown",
   "metadata": {},
   "source": [
    "### Process data"
   ]
  },
  {
   "cell_type": "code",
   "execution_count": null,
   "metadata": {},
   "outputs": [],
   "source": [
    "# Scrape the heading\n",
    "list_names = soup.find_all('a', class_='cl-app-anchor text-only posting-title')\n",
    "card_infos = soup.find_all('div', class_='gallery-card')\n",
    "meta_infos = soup.find_all('div', class_='meta')\n",
    "price_infos = soup.find_all('span', class_='priceinfo')\n",
    "\n",
    "posting_time = []\n",
    "posting_title = []\n",
    "posting_price = []\n",
    "posting_combined_location = []\n",
    "search_type = []\n",
    "\n",
    "\n",
    "for minfo in meta_infos:\n",
    "    # Get Posting Time\n",
    "    posting_time.append(minfo.text.split('·', 1)[0])\n",
    "    \n",
    "    # Get Posting Location\n",
    "    posting_location = minfo.text.split('·', 1)[1]\n",
    "\n",
    "    # Posting City and State Combined\n",
    "    posting_combined_location.append(posting_location)\n",
    "    \n",
    "\n",
    "for list_name in list_names:\n",
    "    # add 'Computer Parts' to the first column\n",
    "    search_type.append('Computer Parts')\n",
    "\n",
    "    # List Title\n",
    "    posting_title.append(list_name.text)\n",
    "\n",
    "\n",
    "for price_info in card_infos:\n",
    "    # Get the price information\n",
    "    try: \n",
    "        splt_price = price_info.find('span', class_='priceinfo').text\n",
    "    except:\n",
    "        splt_price = '$0'\n",
    "\n",
    "    posting_price.append(splt_price)\n",
    "\n",
    "\n",
    "# Create the DataFrame\n",
    "list_info_df = pd.DataFrame({'List_Type':search_type, 'Price': posting_price, 'Item_Title': posting_title, 'Time_Listed': posting_time, 'Location':posting_combined_location})\n",
    "list_info_df.tail(10)"
   ]
  },
  {
   "cell_type": "code",
   "execution_count": 25,
   "metadata": {},
   "outputs": [],
   "source": [
    "# Create CSV file to Output folder\n",
    "list_info_df.to_csv('Output/kansascity_craigslist_computer_parts.csv',index=False)"
   ]
  },
  {
   "cell_type": "markdown",
   "metadata": {},
   "source": [
    "## Close the browser"
   ]
  },
  {
   "cell_type": "code",
   "execution_count": null,
   "metadata": {},
   "outputs": [],
   "source": [
    "# End the automated browsing section\n",
    "browser.quit()"
   ]
  }
 ],
 "metadata": {
  "kernelspec": {
   "display_name": "Python 3 (ipykernel)",
   "language": "python",
   "name": "python3"
  },
  "language_info": {
   "codemirror_mode": {
    "name": "ipython",
    "version": 3
   },
   "file_extension": ".py",
   "mimetype": "text/x-python",
   "name": "python",
   "nbconvert_exporter": "python",
   "pygments_lexer": "ipython3",
   "version": "3.10.14"
  },
  "vscode": {
   "interpreter": {
    "hash": "31f2aee4e71d21fbe5cf8b01ff0e069b9275f58929596ceb00d14d90e3e16cd6"
   }
  }
 },
 "nbformat": 4,
 "nbformat_minor": 4
}
